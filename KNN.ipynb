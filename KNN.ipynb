{
  "nbformat": 4,
  "nbformat_minor": 0,
  "metadata": {
    "colab": {
      "name": "KNN.ipynb",
      "provenance": []
    },
    "kernelspec": {
      "name": "python3",
      "display_name": "Python 3"
    },
    "language_info": {
      "name": "python"
    }
  },
  "cells": [
    {
      "cell_type": "code",
      "execution_count": 1,
      "metadata": {
        "id": "95eutivkFM53"
      },
      "outputs": [],
      "source": [
        "from sklearn.metrics import accuracy_score, confusion_matrix, precision_score, recall_score, f1_score, classification_report\n",
        "from sklearn.neighbors import KNeighborsClassifier\n",
        "from sklearn.model_selection import train_test_split, cross_val_score, GridSearchCV, RandomizedSearchCV\n",
        "from sklearn.decomposition import PCA # Dimensionality Reduction\n",
        "\n",
        "import seaborn as sns # for confusion matrix\n",
        "import pandas as pd\n",
        "import numpy as np\n",
        "import matplotlib.pyplot as plt # to plot inage, graph\n",
        "\n",
        "import pickle\n",
        "import time # for computation time assessment\n",
        "%matplotlib inline"
      ]
    },
    {
      "cell_type": "code",
      "source": [
        "from google.colab import drive\n",
        "drive.mount('/content/drive')"
      ],
      "metadata": {
        "colab": {
          "base_uri": "https://localhost:8080/"
        },
        "id": "GvUK8vNQFPch",
        "outputId": "3f6c4e25-38bb-4eb9-c829-1b5ce97739aa"
      },
      "execution_count": 2,
      "outputs": [
        {
          "output_type": "stream",
          "name": "stdout",
          "text": [
            "Mounted at /content/drive\n"
          ]
        }
      ]
    },
    {
      "cell_type": "code",
      "source": [
        "pickle_in = open(\"/content/drive/MyDrive/Data/X.pickle\", \"rb\")\n",
        "X = pickle.load(pickle_in)\n",
        "\n",
        "pickle_in = open(\"/content/drive/MyDrive/Data/y.pickle\", \"rb\")\n",
        "y = pickle.load(pickle_in)\n",
        "\n",
        "pickle_in = open(\"/content/drive/MyDrive/Data/data.pickle\", \"rb\")\n",
        "data = pickle.load(pickle_in)"
      ],
      "metadata": {
        "id": "6JFYRY0zFP8r"
      },
      "execution_count": 3,
      "outputs": []
    },
    {
      "cell_type": "code",
      "source": [
        "# RECALL\n",
        "# CLASS 0: NO MASK\n",
        "# CLASS 1: INCORRECT WEAR OF MASK\n",
        "# CLASS 2: CORRECT WEAR OF MASK\n",
        "# See Data Preprocessing for more information\n",
        "\n",
        "print('# of Samples:', len(y))\n",
        "print('# of Without A Mask:', (y == 0).sum())\n",
        "print('# of Incorrectly Worn Mask:', (y == 1).sum())\n",
        "print('# of With A Mask:', (y == 2).sum())"
      ],
      "metadata": {
        "colab": {
          "base_uri": "https://localhost:8080/"
        },
        "id": "zL7b-ugRFveY",
        "outputId": "9a8e249b-3136-475b-b205-a7ab7174d904"
      },
      "execution_count": 4,
      "outputs": [
        {
          "output_type": "stream",
          "name": "stdout",
          "text": [
            "# of Samples: 17529\n",
            "# of Without A Mask: 5909\n",
            "# of Incorrectly Worn Mask: 5737\n",
            "# of With A Mask: 5883\n"
          ]
        }
      ]
    },
    {
      "cell_type": "code",
      "source": [
        "# Get Column Names\n",
        "cols = []\n",
        "for i in range(0, len(data[0])):\n",
        "    cols.append(\"P\" + str(i))\n",
        "\n",
        "# Convert to Dataframe\n",
        "numpy_data = data\n",
        "X = pd.DataFrame(data=numpy_data, columns=[cols])\n",
        "print(X.head())\n",
        "\n",
        "y = pd.DataFrame(data=y, columns=[\"Mask_Target\"])\n",
        "print(y.head())"
      ],
      "metadata": {
        "colab": {
          "base_uri": "https://localhost:8080/"
        },
        "id": "K2ESc7NqFxOj",
        "outputId": "df0c5336-e815-4310-d127-dda5f3a84e6b"
      },
      "execution_count": 5,
      "outputs": [
        {
          "output_type": "stream",
          "name": "stdout",
          "text": [
            "    P0   P1   P2   P3   P4   P5   P6  ... P4089 P4090 P4091 P4092 P4093 P4094 P4095\n",
            "0  253  252  253  253  250  248  249  ...   115   102   110   106   103   108   107\n",
            "1  205  195  202  136   76   77   56  ...    43    42    35    39    43    41    32\n",
            "2   97   97   96   96   93   94   97  ...    61    59    66    77    80    83    80\n",
            "3   72   69   71   70   70   74   79  ...    71    64    60    41    29    49    72\n",
            "4   69   59   67   76   85   86   85  ...   217   213   206   207   189    98    43\n",
            "\n",
            "[5 rows x 4096 columns]\n",
            "   Mask_Target\n",
            "0            0\n",
            "1            0\n",
            "2            0\n",
            "3            0\n",
            "4            0\n"
          ]
        }
      ]
    },
    {
      "cell_type": "code",
      "source": [
        "# Shape\n",
        "print('\\nImage Data Shape:', X.shape)\n",
        "print('Image Data Shape Features:', data.shape)\n",
        "print('Image Data Shape Target:', y.shape)"
      ],
      "metadata": {
        "colab": {
          "base_uri": "https://localhost:8080/"
        },
        "id": "J0_9gE56FyW7",
        "outputId": "e47d11b2-5536-41f1-dde0-988ae0485b2e"
      },
      "execution_count": 6,
      "outputs": [
        {
          "output_type": "stream",
          "name": "stdout",
          "text": [
            "\n",
            "Image Data Shape: (17529, 4096)\n",
            "Image Data Shape Features: (17529, 4096)\n",
            "Image Data Shape Target: (17529, 1)\n"
          ]
        }
      ]
    },
    {
      "cell_type": "code",
      "source": [
        "# Normalize the pixel values\n",
        "X = X / 255.0"
      ],
      "metadata": {
        "id": "gbSLAU_JF0Iv"
      },
      "execution_count": 7,
      "outputs": []
    },
    {
      "cell_type": "code",
      "source": [
        "# Split our data into testing and training.\n",
        "X_train, X_test, y_train, y_test = train_test_split(X, y, test_size=0.2, random_state=45)\n",
        "\n",
        "# Print the length and width of our testing data.\n",
        "print('Length of our Training data: ', len(X_train), '\\nLength of our Testing data: ', len(X_test))"
      ],
      "metadata": {
        "colab": {
          "base_uri": "https://localhost:8080/"
        },
        "id": "84fR2HF6F1fv",
        "outputId": "e8a7923c-3415-465c-98e9-3cda80b0d7a0"
      },
      "execution_count": 8,
      "outputs": [
        {
          "output_type": "stream",
          "name": "stdout",
          "text": [
            "Length of our Training data:  14023 \n",
            "Length of our Testing data:  3506\n"
          ]
        }
      ]
    },
    {
      "cell_type": "code",
      "source": [
        "# Initialize KNN model\n",
        "knn = KNeighborsClassifier()\n",
        "\n",
        "# Use training data to fit KNN model\n",
        "knn.fit(X_train, y_train.values.ravel())"
      ],
      "metadata": {
        "colab": {
          "base_uri": "https://localhost:8080/"
        },
        "id": "707tgDqFF2pb",
        "outputId": "5e78e833-6d15-4e08-bf1e-bcd15504bb62"
      },
      "execution_count": 9,
      "outputs": [
        {
          "output_type": "stream",
          "name": "stderr",
          "text": [
            "/usr/local/lib/python3.7/dist-packages/sklearn/utils/validation.py:1679: FutureWarning: Feature names only support names that are all strings. Got feature names with dtypes: ['tuple']. An error will be raised in 1.2.\n",
            "  FutureWarning,\n"
          ]
        },
        {
          "output_type": "execute_result",
          "data": {
            "text/plain": [
              "KNeighborsClassifier()"
            ]
          },
          "metadata": {},
          "execution_count": 9
        }
      ]
    },
    {
      "cell_type": "code",
      "source": [
        "# Initialize KNN model\n",
        "knn = KNeighborsClassifier()\n",
        "\n",
        "# Use training data to fit KNN model\n",
        "knn.fit(X_train, y_train.values.ravel())"
      ],
      "metadata": {
        "colab": {
          "base_uri": "https://localhost:8080/"
        },
        "id": "IHAwAl0qF3md",
        "outputId": "45dc5443-a0fa-4d2c-c71f-95d3701c3d69"
      },
      "execution_count": 10,
      "outputs": [
        {
          "output_type": "stream",
          "name": "stderr",
          "text": [
            "/usr/local/lib/python3.7/dist-packages/sklearn/utils/validation.py:1679: FutureWarning: Feature names only support names that are all strings. Got feature names with dtypes: ['tuple']. An error will be raised in 1.2.\n",
            "  FutureWarning,\n"
          ]
        },
        {
          "output_type": "execute_result",
          "data": {
            "text/plain": [
              "KNeighborsClassifier()"
            ]
          },
          "metadata": {},
          "execution_count": 10
        }
      ]
    },
    {
      "cell_type": "code",
      "source": [
        "predictions_set1 = knn.predict(X_test)"
      ],
      "metadata": {
        "id": "CTokPc40GGhR"
      },
      "execution_count": 12,
      "outputs": []
    },
    {
      "cell_type": "code",
      "source": [
        "# Save Predictions in a pickle\n",
        "pickle_out = open(\"predictions_set1.pickle\", \"wb\")\n",
        "pickle.dump(predictions_set1, pickle_out)\n",
        "pickle_out.close()"
      ],
      "metadata": {
        "id": "8UBPNvl7F4sU"
      },
      "execution_count": 13,
      "outputs": []
    },
    {
      "cell_type": "code",
      "source": [
        "# 75-82% accuracy depending on the divide\n",
        "print('KNN Accuracy: %.3f' % accuracy_score(y_test, predictions_set1))"
      ],
      "metadata": {
        "colab": {
          "base_uri": "https://localhost:8080/"
        },
        "id": "N_105Qb8F6GX",
        "outputId": "00b5b2ab-6b9c-433c-830a-713cf4b643b6"
      },
      "execution_count": 14,
      "outputs": [
        {
          "output_type": "stream",
          "name": "stdout",
          "text": [
            "KNN Accuracy: 0.756\n"
          ]
        }
      ]
    },
    {
      "cell_type": "code",
      "source": [
        "# Calculate Confusion Matrix\n",
        "cm = confusion_matrix(y_test, predictions_set1)\n",
        "\n",
        "plt.figure(figsize=(9,9))\n",
        "# Heatmap visualization of accuracy\n",
        "sns.heatmap(cm,annot=True, fmt='.3f', linewidths=.5, square=True,cmap='Reds_r')\n",
        "plt.ylabel('Actual label')\n",
        "plt.xlabel('Predicted label')\n",
        "all_sample_title = 'Accuracy Score: {0}'.format(accuracy_score(y_test, predictions_set1))\n",
        "plt.title(all_sample_title,size=15)"
      ],
      "metadata": {
        "colab": {
          "base_uri": "https://localhost:8080/",
          "height": 538
        },
        "id": "ejBZ8JhSGLgp",
        "outputId": "764f6aa7-ae00-493a-bb47-213fb0377b31"
      },
      "execution_count": 15,
      "outputs": [
        {
          "output_type": "execute_result",
          "data": {
            "text/plain": [
              "Text(0.5, 1.0, 'Accuracy Score: 0.7564175698802054')"
            ]
          },
          "metadata": {},
          "execution_count": 15
        },
        {
          "output_type": "display_data",
          "data": {
            "image/png": "[encoded data removed]",
            "text/plain": [
              "<Figure size 648x648 with 2 Axes>"
            ]
          },
          "metadata": {
            "needs_background": "light"
          }
        }
      ]
    },
    {
      "cell_type": "code",
      "source": [
        "print('KNN Precision: %.3f' % precision_score(y_test, predictions_set1, average='micro'))\n",
        "print('KNN Recall: %.3f' % recall_score(y_test, predictions_set1, average='micro'))\n",
        "print('KNN F1 Score: %.3f' % f1_score(y_test, predictions_set1, average='micro'))\n",
        "print(\"\\nNo Hyperparameter Tuning Classification Report\\n\", classification_report(y_test, predictions_set1))"
      ],
      "metadata": {
        "colab": {
          "base_uri": "https://localhost:8080/"
        },
        "id": "axRwOe8ZGNEa",
        "outputId": "bbb13484-40af-4d13-a619-890bd1928138"
      },
      "execution_count": 16,
      "outputs": [
        {
          "output_type": "stream",
          "name": "stdout",
          "text": [
            "KNN Precision: 0.756\n",
            "KNN Recall: 0.756\n",
            "KNN F1 Score: 0.756\n",
            "\n",
            "No Hyperparameter Tuning Classification Report\n",
            "               precision    recall  f1-score   support\n",
            "\n",
            "           0       0.59      0.98      0.74      1159\n",
            "           1       0.98      0.75      0.85      1128\n",
            "           2       0.92      0.55      0.69      1219\n",
            "\n",
            "    accuracy                           0.76      3506\n",
            "   macro avg       0.83      0.76      0.76      3506\n",
            "weighted avg       0.83      0.76      0.76      3506\n",
            "\n"
          ]
        }
      ]
    },
    {
      "cell_type": "code",
      "source": [
        "# Dimensionality Reduction with Principal Component Analysis (PCA)\n",
        "pca = PCA(0.90) # Preserve 90% of the variance\n",
        "\n",
        "X_transformed = pca.fit_transform(X_train) # Fit the pca transform with X_train\n",
        "X_test_transformed = pca.transform(X_test) # Apply transform to X_test\n",
        "\n",
        "# Training set shape after Principal Component Analysis form\n",
        "print(X_transformed.shape)\n",
        "\n",
        "# Original Training Set Shape\n",
        "# Notice we lose 3,943 features using PCA, while preserving 90% variance\n",
        "print(X_train.shape)"
      ],
      "metadata": {
        "colab": {
          "base_uri": "https://localhost:8080/"
        },
        "id": "TElLucN4GOL9",
        "outputId": "70771448-7893-4505-8cc8-962feb847fb7"
      },
      "execution_count": 17,
      "outputs": [
        {
          "output_type": "stream",
          "name": "stderr",
          "text": [
            "/usr/local/lib/python3.7/dist-packages/sklearn/utils/validation.py:1679: FutureWarning: Feature names only support names that are all strings. Got feature names with dtypes: ['tuple']. An error will be raised in 1.2.\n",
            "  FutureWarning,\n",
            "/usr/local/lib/python3.7/dist-packages/sklearn/utils/validation.py:1679: FutureWarning: Feature names only support names that are all strings. Got feature names with dtypes: ['tuple']. An error will be raised in 1.2.\n",
            "  FutureWarning,\n"
          ]
        },
        {
          "output_type": "stream",
          "name": "stdout",
          "text": [
            "(14023, 154)\n",
            "(14023, 4096)\n"
          ]
        }
      ]
    },
    {
      "cell_type": "code",
      "source": [
        "# Initialize KNN model for PCA instance\n",
        "knn_pca = KNeighborsClassifier()\n",
        "\n",
        "# Use training data to fit KNN model with transformed X_train\n",
        "knn_pca.fit(X_transformed, y_train.values.ravel())"
      ],
      "metadata": {
        "colab": {
          "base_uri": "https://localhost:8080/"
        },
        "id": "b5A_nwnHGPoJ",
        "outputId": "8cf8f023-437a-443a-94d2-a1cff58518a1"
      },
      "execution_count": 18,
      "outputs": [
        {
          "output_type": "execute_result",
          "data": {
            "text/plain": [
              "KNeighborsClassifier()"
            ]
          },
          "metadata": {},
          "execution_count": 18
        }
      ]
    },
    {
      "cell_type": "code",
      "source": [
        "%%time\n",
        "# make prediction on entire train data\n",
        "predictions_set_pca = knn_pca.predict(X_transformed)\n",
        "print(\"Accuracy Train PCA:\", accuracy_score(y_train, predictions_set_pca))"
      ],
      "metadata": {
        "colab": {
          "base_uri": "https://localhost:8080/"
        },
        "id": "2Ly3Q7HuGR11",
        "outputId": "df798993-96b8-413a-b3f0-ede8cd6c8ae5"
      },
      "execution_count": 19,
      "outputs": [
        {
          "output_type": "stream",
          "name": "stdout",
          "text": [
            "Accuracy Train PCA: 0.8947443485702061\n",
            "CPU times: user 7.28 s, sys: 852 ms, total: 8.14 s\n",
            "Wall time: 6.1 s\n"
          ]
        }
      ]
    },
    {
      "cell_type": "code",
      "source": [
        "%%time\n",
        "# make prediction on entire test data\n",
        "predictions_set_pca = knn_pca.predict(X_test_transformed)\n",
        "print(\"Accuracy Train PCA:\", accuracy_score(y_test, predictions_set_pca))"
      ],
      "metadata": {
        "colab": {
          "base_uri": "https://localhost:8080/"
        },
        "id": "YujH5P-_GTas",
        "outputId": "c826a4b5-5566-43c2-dab9-692f8be153ef"
      },
      "execution_count": 20,
      "outputs": [
        {
          "output_type": "stream",
          "name": "stdout",
          "text": [
            "Accuracy Train PCA: 0.8362806617227609\n",
            "CPU times: user 1.87 s, sys: 122 ms, total: 2 s\n",
            "Wall time: 1.47 s\n"
          ]
        }
      ]
    },
    {
      "cell_type": "code",
      "source": [
        "# Calculate Confusion Matrix for PCA\n",
        "cm = confusion_matrix(y_test, predictions_set_pca)\n",
        "\n",
        "plt.figure(figsize=(9,9))\n",
        "\n",
        "# Heatmap visualization of accuracy\n",
        "sns.heatmap(cm,annot=True, fmt='.3f', linewidths=.5, square=True,cmap='Reds_r')\n",
        "plt.ylabel('Actual label')\n",
        "plt.xlabel('Predicted label')\n",
        "title = 'Accuracy Score Test PCA: {0}'.format(accuracy_score(y_test, predictions_set_pca))\n",
        "plt.title(title,size=15)\n",
        "\n",
        "print(\"\\n PCA Classification Report\\n\", classification_report(y_test, predictions_set_pca))"
      ],
      "metadata": {
        "colab": {
          "base_uri": "https://localhost:8080/",
          "height": 739
        },
        "id": "fkqmqvmRGU4q",
        "outputId": "58e4d98d-edfc-44ec-8314-b718e772ac6c"
      },
      "execution_count": 21,
      "outputs": [
        {
          "output_type": "stream",
          "name": "stdout",
          "text": [
            "\n",
            " PCA Classification Report\n",
            "               precision    recall  f1-score   support\n",
            "\n",
            "           0       0.70      0.97      0.81      1159\n",
            "           1       0.97      0.91      0.93      1128\n",
            "           2       0.94      0.64      0.76      1219\n",
            "\n",
            "    accuracy                           0.84      3506\n",
            "   macro avg       0.87      0.84      0.84      3506\n",
            "weighted avg       0.87      0.84      0.83      3506\n",
            "\n"
          ]
        },
        {
          "output_type": "display_data",
          "data": {
            "image/png": "[encoded data removed]",
            "text/plain": [
              "<Figure size 648x648 with 2 Axes>"
            ]
          },
          "metadata": {
            "needs_background": "light"
          }
        }
      ]
    },
    {
      "cell_type": "code",
      "source": [
        "# New KNN instance model\n",
        "knn = KNeighborsClassifier()\n",
        "\n",
        "# Dictionary of parameter values we are testing performance for\n",
        "param_grid = {'n_neighbors': [5, 7, 9, 11], 'p': [2, 4, 6, 8, 10, 20, 50], 'metric': ['euclidean', 'manhattan', 'minkowski']}\n",
        "\n",
        "# Test all parameter combinations in param_grid\n",
        "knn_gscv = GridSearchCV(knn, param_grid, scoring='f1_micro', cv=5, verbose=3, n_jobs=-1)"
      ],
      "metadata": {
        "id": "A24cM_N7GWHN"
      },
      "execution_count": 23,
      "outputs": []
    },
    {
      "cell_type": "code",
      "source": [
        "knn_gscv.fit(X_train, y_train.values.ravel())"
      ],
      "metadata": {
        "colab": {
          "base_uri": "https://localhost:8080/"
        },
        "id": "I41D1ZHzGXjd",
        "outputId": "2e67df7d-b59e-4a4d-cf7b-0d93ffdd1deb"
      },
      "execution_count": null,
      "outputs": [
        {
          "output_type": "stream",
          "name": "stdout",
          "text": [
            "Fitting 5 folds for each of 84 candidates, totalling 420 fits\n"
          ]
        }
      ]
    },
    {
      "cell_type": "code",
      "source": [
        "best_params_ = knn_gscv.best_params_\n",
        "\n",
        "knn_gscv.best_score_"
      ],
      "metadata": {
        "id": "14PFuv_kGZEO"
      },
      "execution_count": null,
      "outputs": []
    },
    {
      "cell_type": "code",
      "source": [
        ""
      ],
      "metadata": {
        "id": "-ll0zl8xGazP"
      },
      "execution_count": null,
      "outputs": []
    }
  ]
}